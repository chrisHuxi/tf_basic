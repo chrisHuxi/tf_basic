{
 "metadata": {
  "name": ""
 },
 "nbformat": 3,
 "nbformat_minor": 0,
 "worksheets": [
  {
   "cells": [
    {
     "cell_type": "code",
     "collapsed": false,
     "input": [
      "import tensorflow as tf\n",
      "import numpy as np\n",
      "import matplotlib.pyplot as plt"
     ],
     "language": "python",
     "metadata": {},
     "outputs": [],
     "prompt_number": 13
    },
    {
     "cell_type": "code",
     "collapsed": false,
     "input": [
      "#\u51c6\u5907\u6570\u636e\n",
      "num_points = 1000\n",
      "vectors_set = []\n",
      "\n",
      "for idx in range(num_points):\n",
      "  x1 = np.random.normal(0.0, 0.55)\n",
      "  y1 = x1 * 0.1 + 0.3 + np.random.normal(0.0, 0.03)\n",
      "  vectors_set.append([x1, y1])\n",
      "\n",
      "x_data = [v[0] for v in vectors_set]\n",
      "y_data = [v[1] for v in vectors_set]\n",
      "\n",
      "train_data_x = np.array(x_data).reshape(len(x_data),1)\n",
      "train_data_y = np.array(y_data).reshape(len(y_data),1)\n",
      "\n",
      "\n",
      "print('train_data', train_data_x.shape, train_data_y.shape)\n",
      "\n",
      "\n",
      "plt.plot(x_data, y_data, 'ro', label=\"Original data\")\n",
      "plt.legend()\n",
      "plt.show()\n"
     ],
     "language": "python",
     "metadata": {},
     "outputs": [
      {
       "output_type": "stream",
       "stream": "stdout",
       "text": [
        "('train_data', (1000, 1), (1000, 1))\n"
       ]
      }
     ],
     "prompt_number": 43
    },
    {
     "cell_type": "code",
     "collapsed": false,
     "input": [
      "#\u5b9a\u4e49\u597d\u8ba1\u7b97\u56fe\uff1a\u4e3b\u8981\u7684\u5de5\u4f5c\u5c31\u662f\u5728\u8fd9\u91cc\n",
      "graph = tf.Graph()\n",
      "\n",
      "with graph.as_default():\n",
      "    W = tf.Variable(tf.random_uniform([1,1], -1.0, 1.0))\n",
      "    b = tf.Variable(tf.zeros([1,1]))\n",
      "    with tf.name_scope('x_train'):\n",
      "        x_train = tf.placeholder(tf.float32,shape=(num_points,1))\n",
      "    with tf.name_scope('y_train'):\n",
      "        y_train = tf.placeholder(tf.float32, shape=(num_points,1))\n",
      "    \n",
      "    y = W * x_train + b\n",
      "    \n",
      "    loss = tf.reduce_mean(tf.square(y - y_train))\n",
      "    optimizer = tf.train.GradientDescentOptimizer(0.5)\n",
      "    train = optimizer.minimize(loss)"
     ],
     "language": "python",
     "metadata": {},
     "outputs": [],
     "prompt_number": 44
    },
    {
     "cell_type": "code",
     "collapsed": false,
     "input": [
      "num_steps = 30\n",
      "\n",
      "#\u521b\u5efa\u4f1a\u8bdd:\u901a\u5e38\u6765\u8bf4\u8fd9\u4e00\u5757\u76f8\u5bf9\u56fa\u5b9a\n",
      "with tf.Session(graph=graph) as session:\n",
      "    tf.initialize_all_variables().run()\n",
      "    for step in range(num_steps):\n",
      "        feed_dict = {x_train: train_data_x ,y_train:train_data_y}\n",
      "        _,_loss = session.run([train,loss],feed_dict = feed_dict)\n",
      "        if step%5 == 0:\n",
      "            print(' loss at step %d: %f' %(step,_loss))\n",
      "    print(W.eval())\n",
      "    print(b.eval())"
     ],
     "language": "python",
     "metadata": {},
     "outputs": [
      {
       "output_type": "stream",
       "stream": "stdout",
       "text": [
        " loss at step 0: 0.092598\n",
        " loss at step 5: 0.000912\n",
        " loss at step 10: 0.000840\n",
        " loss at step 15: 0.000838\n",
        " loss at step 20: 0.000838\n",
        " loss at step 25: 0.000838\n",
        "[[ 0.09901277]]\n",
        "[[ 0.29989582]]\n"
       ]
      }
     ],
     "prompt_number": 45
    },
    {
     "cell_type": "code",
     "collapsed": false,
     "input": [],
     "language": "python",
     "metadata": {},
     "outputs": []
    }
   ],
   "metadata": {}
  }
 ]
}